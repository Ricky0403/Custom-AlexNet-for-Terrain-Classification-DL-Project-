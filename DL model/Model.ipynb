{
 "cells": [
  {
   "cell_type": "markdown",
   "id": "8eeadb4a",
   "metadata": {},
   "source": [
    "# Deep Learning Model"
   ]
  },
  {
   "cell_type": "markdown",
   "id": "85473500",
   "metadata": {},
   "source": [
    "## Imports"
   ]
  },
  {
   "cell_type": "code",
   "execution_count": 10,
   "id": "e7267a94",
   "metadata": {},
   "outputs": [],
   "source": [
    "import os\n",
    "import numpy as np\n",
    "from PIL import Image\n",
    "from tensorflow.keras.utils import to_categorical\n",
    "from tensorflow.keras.models import Sequential\n",
    "from tensorflow.keras.layers import Conv2D, MaxPooling2D, Flatten, Dense,Dropout\n",
    "from tensorflow.keras.optimizers import Adam\n",
    "from tensorflow.keras.callbacks import EarlyStopping, ModelCheckpoint, Callback\n",
    "from tensorflow.keras.preprocessing.image import ImageDataGenerator, load_img, img_to_array\n",
    "from tensorflow.config.experimental import list_physical_devices, set_memory_growth\n",
    "from tensorflow import device\n",
    "import gc\n",
    "from sklearn.metrics import classification_report, ConfusionMatrixDisplay, confusion_matrix\n",
    "from sklearn.preprocessing import LabelEncoder\n",
    "import matplotlib.pyplot as plt"
   ]
  },
  {
   "cell_type": "code",
   "execution_count": 11,
   "id": "6e495c6c-f47a-4684-82e4-f26f3ceea639",
   "metadata": {},
   "outputs": [],
   "source": [
    "gpus = list_physical_devices('GPU')\n",
    "if gpus:\n",
    "    try:\n",
    "        for gpu in gpus:\n",
    "            set_memory_growth(gpu, True)\n",
    "    except RuntimeError as e:\n",
    "        print(e)"
   ]
  },
  {
   "cell_type": "markdown",
   "id": "6450b161-78a2-4309-9d08-0019881bc3eb",
   "metadata": {},
   "source": [
    "## Importing Dataset"
   ]
  },
  {
   "cell_type": "code",
   "execution_count": 12,
   "id": "9c438439",
   "metadata": {},
   "outputs": [
    {
     "name": "stdout",
     "output_type": "stream",
     "text": [
      "Found 31571 images belonging to 4 classes.\n",
      "Found 6765 images belonging to 4 classes.\n"
     ]
    }
   ],
   "source": [
    "train_datagen = ImageDataGenerator(rescale=1./255) \n",
    "val_datagen = ImageDataGenerator(rescale=1./255)\n",
    "\n",
    "train_generator = train_datagen.flow_from_directory(\n",
    "    'C:\\\\DataSet\\\\DL Project\\\\Terrain Recognition\\\\Data Main\\\\train',  \n",
    "    target_size=(227, 227),      \n",
    "    batch_size=16,               \n",
    "    class_mode='categorical'     \n",
    ")\n",
    "\n",
    "val_generator = val_datagen.flow_from_directory(\n",
    "    'C:\\\\DataSet\\\\DL Project\\\\Terrain Recognition\\\\Data Main\\\\val',\n",
    "    target_size=(227, 227),\n",
    "    batch_size=16,\n",
    "    class_mode='categorical'\n",
    ")"
   ]
  },
  {
   "cell_type": "markdown",
   "id": "77f8e131-86ba-4145-9787-a3fa0c48d4b4",
   "metadata": {},
   "source": [
    "## Garbage Collection"
   ]
  },
  {
   "cell_type": "code",
   "execution_count": 13,
   "id": "c77a684a-9a04-41f7-9a24-cf54b21b1568",
   "metadata": {},
   "outputs": [],
   "source": [
    "class ClearMemory(Callback):\n",
    "    def on_epoch_end(self, epoch, logs=None):\n",
    "        gc.collect()"
   ]
  },
  {
   "cell_type": "markdown",
   "id": "9964b91f-d64a-4a73-b041-a7609bd3f169",
   "metadata": {},
   "source": [
    "## Model Creation"
   ]
  },
  {
   "cell_type": "code",
   "execution_count": 14,
   "id": "b985389c",
   "metadata": {},
   "outputs": [],
   "source": [
    "model = Sequential([\n",
    "    Conv2D(32, (3, 3), activation='relu', input_shape=(227, 227, 3)),\n",
    "    MaxPooling2D((2, 2)),\n",
    "    Conv2D(64, (3, 3), activation='relu'),\n",
    "    MaxPooling2D((2, 2)),\n",
    "    Conv2D(128, (3, 3), activation='relu'),\n",
    "    Conv2D(128, (3, 3), activation='relu'),\n",
    "    Conv2D(64, (3, 3), activation='relu'),\n",
    "    MaxPooling2D((2, 2)),\n",
    "    Flatten(),\n",
    "    Dropout(0.5),\n",
    "    Dense(2048, activation='relu'),\n",
    "    Dropout(0.5),\n",
    "    Dense(2048, activation='relu'),\n",
    "    Dense(4, activation='softmax')\n",
    "    ])\n",
    "\n",
    "model.compile(optimizer=Adam(), loss='categorical_crossentropy', metrics=['accuracy'])\n",
    "\n",
    "early_stopping = EarlyStopping(\n",
    "    monitor='val_loss',\n",
    "    patience=5,\n",
    "    restore_best_weights=True\n",
    ")"
   ]
  },
  {
   "cell_type": "code",
   "execution_count": 15,
   "id": "813943fd-4b55-46d5-829a-050ce9c65fb7",
   "metadata": {},
   "outputs": [],
   "source": [
    "checkpoint = ModelCheckpoint(\n",
    "    'best_model_weights10.h5',\n",
    "    monitor='val_loss',\n",
    "    save_best_only=True,\n",
    "    save_weights_only=True\n",
    ")"
   ]
  },
  {
   "cell_type": "markdown",
   "id": "7127215d-8cc1-4a0c-a33e-3cfbdb0bb59e",
   "metadata": {},
   "source": [
    "## Model Training Dataset"
   ]
  },
  {
   "cell_type": "code",
   "execution_count": 7,
   "id": "dc12f782",
   "metadata": {},
   "outputs": [
    {
     "name": "stdout",
     "output_type": "stream",
     "text": [
      "Epoch 1/50\n",
      "1974/1974 [==============================] - 511s 249ms/step - loss: 0.6256 - accuracy: 0.7464 - val_loss: 0.6225 - val_accuracy: 0.7104\n",
      "Epoch 2/50\n",
      "1974/1974 [==============================] - 459s 232ms/step - loss: 0.4221 - accuracy: 0.8424 - val_loss: 0.3112 - val_accuracy: 0.8837\n",
      "Epoch 3/50\n",
      "1974/1974 [==============================] - 320s 162ms/step - loss: 0.3805 - accuracy: 0.8630 - val_loss: 0.3315 - val_accuracy: 0.8810\n",
      "Epoch 4/50\n",
      "1974/1974 [==============================] - 171s 87ms/step - loss: 0.3130 - accuracy: 0.8897 - val_loss: 0.2759 - val_accuracy: 0.9063\n",
      "Epoch 5/50\n",
      "1974/1974 [==============================] - 202s 102ms/step - loss: 0.2548 - accuracy: 0.9105 - val_loss: 0.2846 - val_accuracy: 0.9029\n",
      "Epoch 6/50\n",
      "1974/1974 [==============================] - 281s 142ms/step - loss: 0.2308 - accuracy: 0.9236 - val_loss: 0.2511 - val_accuracy: 0.9227\n",
      "Epoch 7/50\n",
      "1974/1974 [==============================] - 199s 101ms/step - loss: 0.2206 - accuracy: 0.9287 - val_loss: 0.1687 - val_accuracy: 0.9456\n",
      "Epoch 8/50\n",
      "1974/1974 [==============================] - 207s 105ms/step - loss: 0.2111 - accuracy: 0.9320 - val_loss: 0.1915 - val_accuracy: 0.9348\n",
      "Epoch 9/50\n",
      "1974/1974 [==============================] - 217s 110ms/step - loss: 0.2095 - accuracy: 0.9319 - val_loss: 0.1934 - val_accuracy: 0.9358\n",
      "Epoch 10/50\n",
      "1974/1974 [==============================] - 177s 90ms/step - loss: 0.2392 - accuracy: 0.9191 - val_loss: 0.1754 - val_accuracy: 0.9356\n",
      "Epoch 11/50\n",
      "1974/1974 [==============================] - 185s 94ms/step - loss: 0.1846 - accuracy: 0.9402 - val_loss: 0.1900 - val_accuracy: 0.9404\n",
      "Epoch 12/50\n",
      "1974/1974 [==============================] - 186s 94ms/step - loss: 0.2072 - accuracy: 0.9379 - val_loss: 0.2047 - val_accuracy: 0.9376\n"
     ]
    }
   ],
   "source": [
    "with device('/GPU:0'):\n",
    "    history = model.fit(\n",
    "        train_generator,\n",
    "        validation_data=val_generator,\n",
    "        epochs=50,\n",
    "        callbacks=[checkpoint, early_stopping, ClearMemory()]\n",
    "    )"
   ]
  },
  {
   "cell_type": "markdown",
   "id": "f66b2a8d-c367-402b-b22c-19b7e66a9707",
   "metadata": {},
   "source": [
    "## Testing Dataset 2"
   ]
  },
  {
   "cell_type": "code",
   "execution_count": 4,
   "id": "145a34ca-3b96-4a6f-82d9-100a607a8b5f",
   "metadata": {},
   "outputs": [],
   "source": [
    "test_data_dir = 'C:\\\\DataSet\\\\DL Project\\\\Terrain Recognition\\\\Data Main\\\\test'\n",
    "target_size = (227, 227) \n",
    "num_classes = 4           \n",
    "\n",
    "def load_images_and_labels(data_dir, target_size, num_classes):\n",
    "    images = []\n",
    "    labels = []\n",
    "    class_names = sorted(os.listdir(data_dir))  \n",
    "\n",
    "    for class_index, class_name in enumerate(class_names):\n",
    "        class_path = os.path.join(data_dir, class_name)\n",
    "        for image_name in os.listdir(class_path):\n",
    "            image_path = os.path.join(class_path, image_name)\n",
    "            img = load_img(image_path, target_size=target_size)\n",
    "            img_array = img_to_array(img) / 255.0  \n",
    "            images.append(img_array)\n",
    "            labels.append(class_index)  \n",
    "\n",
    "    images = np.array(images)\n",
    "    labels = to_categorical(labels, num_classes=num_classes)\n",
    "    return images, labels"
   ]
  },
  {
   "cell_type": "markdown",
   "id": "78b423c1-ac52-44da-935d-ae939db76cef",
   "metadata": {},
   "source": [
    "## Importing saved weight values"
   ]
  },
  {
   "cell_type": "code",
   "execution_count": 5,
   "id": "d07078b3-a9a4-4d41-843a-ee8010a9fa8a",
   "metadata": {},
   "outputs": [],
   "source": [
    "model.load_weights('best_model_weights7.h5')"
   ]
  },
  {
   "cell_type": "markdown",
   "id": "b096fc62-2dc8-413b-b4d8-57f791cfd05e",
   "metadata": {},
   "source": [
    "## Calculating Accuracy"
   ]
  },
  {
   "cell_type": "code",
   "execution_count": 7,
   "id": "b0674233-3789-4564-a8cb-9d4fa8f86b58",
   "metadata": {},
   "outputs": [
    {
     "name": "stdout",
     "output_type": "stream",
     "text": [
      "212/212 [==============================] - 21s 39ms/step - loss: 0.1081 - accuracy: 0.9657\n",
      "Test Loss: 0.10809443145990372\n",
      "Test Accuracy: 0.9657260775566101\n"
     ]
    }
   ],
   "source": [
    "X_test, y_test = load_images_and_labels(test_data_dir, target_size, num_classes)\n",
    "test_loss, test_accuracy = model.evaluate(X_test, y_test)\n",
    "print(f\"Test Loss: {test_loss}\")\n",
    "print(f\"Test Accuracy: {test_accuracy}\")"
   ]
  },
  {
   "cell_type": "code",
   "execution_count": 6,
   "id": "6a56f6fd-6f82-4157-b6aa-32cb1b505df9",
   "metadata": {},
   "outputs": [
    {
     "name": "stdout",
     "output_type": "stream",
     "text": [
      "212/212 [==============================] - 17s 34ms/step\n",
      "              precision    recall  f1-score   support\n",
      "\n",
      "           0       0.97      0.99      0.98      1824\n",
      "           1       0.96      0.93      0.95      1657\n",
      "           2       0.95      0.95      0.95      1644\n",
      "           3       0.98      0.99      0.99      1644\n",
      "\n",
      "    accuracy                           0.97      6769\n",
      "   macro avg       0.97      0.97      0.97      6769\n",
      "weighted avg       0.97      0.97      0.97      6769\n",
      "\n"
     ]
    }
   ],
   "source": [
    "X_test, y_test = load_images_and_labels(test_data_dir, target_size, num_classes)\n",
    "y_pred = model.predict(X_test)\n",
    "y_pred = np.argmax(y_pred, axis=1)\n",
    "y_test = np.argmax(y_test, axis=1)\n",
    "\n",
    "print(classification_report(y_test,y_pred))"
   ]
  },
  {
   "cell_type": "code",
   "execution_count": 7,
   "id": "274b6e23-507a-44dd-97a0-e3025da14a4f",
   "metadata": {},
   "outputs": [
    {
     "data": {
      "image/png": "[encoded data removed]",
      "text/plain": [
       "<Figure size 640x480 with 2 Axes>"
      ]
     },
     "metadata": {},
     "output_type": "display_data"
    }
   ],
   "source": [
    "cm = confusion_matrix(y_test, y_pred)\n",
    "\n",
    "display_labels = [0, 1, 2, 3]\n",
    "\n",
    "cm_display = ConfusionMatrixDisplay(confusion_matrix=cm, display_labels=display_labels)\n",
    "\n",
    "cm_display.plot(cmap='Blues')\n",
    "plt.show()"
   ]
  },
  {
   "cell_type": "markdown",
   "id": "74c41579-064d-4731-8edf-0506017177af",
   "metadata": {},
   "source": [
    "## Testing Dataset 1"
   ]
  },
  {
   "cell_type": "code",
   "execution_count": 19,
   "id": "b6f0774b-aed3-47b1-9c53-44c6892eee9d",
   "metadata": {},
   "outputs": [],
   "source": [
    "test_data_dir = 'C:\\\\DataSet\\\\DL Project\\\\Different Terrain Types Classification\\\\test'\n",
    "target_size = (227, 227) \n",
    "num_classes = 4           \n",
    "\n",
    "def load_images_and_labels(data_dir, target_size, num_classes):\n",
    "    images = []\n",
    "    labels = []\n",
    "    class_names = sorted(os.listdir(data_dir))  \n",
    "\n",
    "    for class_index, class_name in enumerate(class_names):\n",
    "        class_path = os.path.join(data_dir, class_name)\n",
    "        for image_name in os.listdir(class_path):\n",
    "            image_path = os.path.join(class_path, image_name)\n",
    "            img = load_img(image_path, target_size=target_size)\n",
    "            img_array = img_to_array(img) / 255.0  \n",
    "            images.append(img_array)\n",
    "            labels.append(class_index)  \n",
    "\n",
    "    images = np.array(images)\n",
    "    labels = to_categorical(labels, num_classes=num_classes)\n",
    "    return images, labels"
   ]
  },
  {
   "cell_type": "markdown",
   "id": "0ba98ef2-5ffb-4719-b504-1c0de1db661e",
   "metadata": {},
   "source": [
    "## Imorting Weight"
   ]
  },
  {
   "cell_type": "code",
   "execution_count": 20,
   "id": "0ca033c3-a153-4349-b8f2-2242e049fc55",
   "metadata": {},
   "outputs": [],
   "source": [
    "model.load_weights('best_model_weights3.h5')"
   ]
  },
  {
   "cell_type": "code",
   "execution_count": 21,
   "id": "9add2875-dbfe-4b37-8113-47f012029fcb",
   "metadata": {},
   "outputs": [
    {
     "name": "stdout",
     "output_type": "stream",
     "text": [
      "15/15 [==============================] - 8s 32ms/step - loss: 0.2979 - accuracy: 0.9104\n",
      "Test Loss: 0.2978608012199402\n",
      "Test Accuracy: 0.9104166626930237\n"
     ]
    }
   ],
   "source": [
    "X_test, y_test = load_images_and_labels(test_data_dir, target_size, num_classes)\n",
    "test_loss, test_accuracy = model.evaluate(X_test, y_test)\n",
    "print(f\"Test Loss: {test_loss}\")\n",
    "print(f\"Test Accuracy: {test_accuracy}\")"
   ]
  },
  {
   "cell_type": "code",
   "execution_count": 22,
   "id": "85ec4fa8-d5d7-461b-b285-adfc65083d5e",
   "metadata": {},
   "outputs": [
    {
     "name": "stdout",
     "output_type": "stream",
     "text": [
      "15/15 [==============================] - 1s 30ms/step\n",
      "              precision    recall  f1-score   support\n",
      "\n",
      "           0       0.88      0.97      0.92       120\n",
      "           1       0.93      0.95      0.94       120\n",
      "           2       0.90      0.78      0.84       120\n",
      "           3       0.93      0.94      0.94       120\n",
      "\n",
      "    accuracy                           0.91       480\n",
      "   macro avg       0.91      0.91      0.91       480\n",
      "weighted avg       0.91      0.91      0.91       480\n",
      "\n"
     ]
    }
   ],
   "source": [
    "X_test, y_test = load_images_and_labels(test_data_dir, target_size, num_classes)\n",
    "y_pred = model.predict(X_test)\n",
    "y_pred = np.argmax(y_pred, axis=1)\n",
    "y_test = np.argmax(y_test, axis=1)\n",
    "\n",
    "print(classification_report(y_test,y_pred))"
   ]
  },
  {
   "cell_type": "code",
   "execution_count": 23,
   "id": "e7e09a07-c128-45f3-a974-563a1a2e142f",
   "metadata": {},
   "outputs": [
    {
     "data": {
      "image/png": "[encoded data removed]",
      "text/plain": [
       "<Figure size 640x480 with 2 Axes>"
      ]
     },
     "metadata": {},
     "output_type": "display_data"
    }
   ],
   "source": [
    "cm = confusion_matrix(y_test, y_pred)\n",
    "\n",
    "display_labels = [0, 1, 2, 3]\n",
    "\n",
    "cm_display = ConfusionMatrixDisplay(confusion_matrix=cm, display_labels=display_labels)\n",
    "\n",
    "cm_display.plot(cmap='Blues')\n",
    "plt.show()"
   ]
  },
  {
   "cell_type": "code",
   "execution_count": null,
   "id": "09772c0b-0b7c-4bd4-b6fd-a7946bf39847",
   "metadata": {},
   "outputs": [],
   "source": []
  }
 ],
 "metadata": {
  "kernelspec": {
   "display_name": "Python 3 (ipykernel)",
   "language": "python",
   "name": "python3"
  },
  "language_info": {
   "codemirror_mode": {
    "name": "ipython",
    "version": 3
   },
   "file_extension": ".py",
   "mimetype": "text/x-python",
   "name": "python",
   "nbconvert_exporter": "python",
   "pygments_lexer": "ipython3",
   "version": "3.10.15"
  }
 },
 "nbformat": 4,
 "nbformat_minor": 5
}
