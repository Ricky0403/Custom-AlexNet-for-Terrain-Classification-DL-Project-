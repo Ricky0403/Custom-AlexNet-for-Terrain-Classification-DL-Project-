{
 "cells": [
  {
   "cell_type": "markdown",
   "id": "fad393ce",
   "metadata": {},
   "source": [
    "# ELM Impementation"
   ]
  },
  {
   "cell_type": "markdown",
   "id": "68a97c95",
   "metadata": {},
   "source": [
    "## Import Statements"
   ]
  },
  {
   "cell_type": "code",
   "execution_count": 77,
   "id": "cb926177",
   "metadata": {},
   "outputs": [],
   "source": [
    "import os\n",
    "import cv2\n",
    "from hpelm import ELM\n",
    "import numpy as np\n",
    "import matplotlib.pyplot as plt\n",
    "from PIL import Image\n",
    "from sklearn.preprocessing import LabelBinarizer\n",
    "from sklearn.utils import shuffle\n",
    "from sklearn.metrics import accuracy_score, confusion_matrix,classification_report, ConfusionMatrixDisplay"
   ]
  },
  {
   "cell_type": "markdown",
   "id": "0a569ef7",
   "metadata": {},
   "source": [
    "## Importing and Preprocessing Data"
   ]
  },
  {
   "cell_type": "code",
   "execution_count": 63,
   "id": "a562c5e3",
   "metadata": {},
   "outputs": [],
   "source": [
    "def load_and_preprocess_images(dataset_path, target_size=(227, 227)):\n",
    "    images = []\n",
    "    labels = []\n",
    "    class_names = sorted(os.listdir(dataset_path))\n",
    "    \n",
    "    # Iterate over each subfolder (class) in the main dataset folder\n",
    "    for class_name in class_names:\n",
    "        class_folder = os.path.join(dataset_path, class_name)\n",
    "        \n",
    "        if os.path.isdir(class_folder):  # Ensure it's a folder\n",
    "            for filename in os.listdir(class_folder):\n",
    "                img_path = os.path.join(class_folder, filename)\n",
    "                \n",
    "                try:\n",
    "                    # Load and preprocess image\n",
    "                    img = Image.open(img_path)  # Skip RGB conversion\n",
    "                    img = img.resize(target_size)  # Resize to target dimensions\n",
    "                    img_array = np.array(img) / 255.0  # Normalize pixel values\n",
    "                    flattened_images = img_array.reshape(227*227*3)\n",
    "                    images.append(flattened_images)\n",
    "                    labels.append(class_name)\n",
    "                except Exception as e:\n",
    "                    print(f\"Error loading image {img_path}: {e}\")\n",
    "\n",
    "    # Convert lists to numpy arrays\n",
    "    images = np.array(images, dtype=np.float32)\n",
    "    \n",
    "    # Perform one-hot encoding on labels\n",
    "    label_binarizer = LabelBinarizer()\n",
    "    labels_one_hot = label_binarizer.fit_transform(labels)\n",
    "    \n",
    "    return images, labels_one_hot, label_binarizer.classes_"
   ]
  },
  {
   "cell_type": "markdown",
   "id": "14de913b",
   "metadata": {},
   "source": [
    "## Data Shuffling"
   ]
  },
  {
   "cell_type": "code",
   "execution_count": 64,
   "id": "1807bc82",
   "metadata": {},
   "outputs": [],
   "source": [
    "def shuffle_data(X, y):\n",
    "    X, y = shuffle(X,y, random_state = 42)\n",
    "    return np.array(X), np.array(y)"
   ]
  },
  {
   "cell_type": "markdown",
   "id": "a8bb2cd2",
   "metadata": {},
   "source": [
    "## Training Dataset"
   ]
  },
  {
   "cell_type": "code",
   "execution_count": 65,
   "id": "da73f963",
   "metadata": {},
   "outputs": [],
   "source": [
    "dataset_path = \"C:\\\\DataSet\\\\DL Project\\\\Different Terrain Types Classification\\\\train\" \n",
    "images_train, labels_one_hot_train, class_names_train = load_and_preprocess_images(dataset_path)\n",
    "X_train, y_train = shuffle_data(images_train, labels_one_hot_train)"
   ]
  },
  {
   "cell_type": "markdown",
   "id": "5977a1e5",
   "metadata": {},
   "source": [
    "## ELM Model"
   ]
  },
  {
   "cell_type": "code",
   "execution_count": 67,
   "id": "556020d0",
   "metadata": {},
   "outputs": [],
   "source": [
    "# Define number of input neurons (e.g., 32x32 images with 3 channels: 32*32*3 = 3072)\n",
    "input_neurons = 227*227*3 # For RGB images\n",
    "output_neurons = 4  # Number of classes in your classification task\n",
    "\n",
    "# Create the ELM model\n",
    "elm_model = ELM(input_neurons, output_neurons, classification=\"c\")\n",
    "\n",
    "# Add hidden layer with a specific number of neurons\n",
    "elm_model.add_neurons(10, \"sigm\")  # Add 1000 hidden neurons with sigmoid activation"
   ]
  },
  {
   "cell_type": "markdown",
   "id": "d12ca408",
   "metadata": {},
   "source": [
    "## Training Model"
   ]
  },
  {
   "cell_type": "code",
   "execution_count": 68,
   "id": "5bc01d68",
   "metadata": {},
   "outputs": [],
   "source": [
    "elm_model.train(X_train, y_train)"
   ]
  },
  {
   "cell_type": "markdown",
   "id": "e506ce2e",
   "metadata": {},
   "source": [
    "## Accuracy"
   ]
  },
  {
   "cell_type": "code",
   "execution_count": 73,
   "id": "bbd9b176",
   "metadata": {},
   "outputs": [
    {
     "name": "stdout",
     "output_type": "stream",
     "text": [
      "The accuracy score is 0.6604166666666667\n"
     ]
    }
   ],
   "source": [
    "dataset_path = \"C:\\\\DataSet\\\\DL Project\\\\Different Terrain Types Classification\\\\test\" \n",
    "images_test, labels_one_hot_test, class_names_test = load_and_preprocess_images(dataset_path)\n",
    "X_test, y_test = shuffle_data(images_test, labels_one_hot_test)\n",
    "y_pred = elm_model.predict(X_test)\n",
    "y_pred = np.argmax(y_pred, axis=1)\n",
    "y_test = np.argmax(y_test, axis=1)\n",
    "print(f\"The accuracy score is {accuracy_score(y_test, y_pred)}\")"
   ]
  },
  {
   "cell_type": "markdown",
   "id": "a73d3473",
   "metadata": {},
   "source": [
    "## Classification Report"
   ]
  },
  {
   "cell_type": "code",
   "execution_count": 79,
   "id": "7a7f7ec0",
   "metadata": {},
   "outputs": [
    {
     "name": "stdout",
     "output_type": "stream",
     "text": [
      "              precision    recall  f1-score   support\n",
      "\n",
      "           0       0.74      0.98      0.85       120\n",
      "           1       0.69      0.72      0.70       120\n",
      "           2       0.57      0.25      0.35       120\n",
      "           3       0.58      0.69      0.63       120\n",
      "\n",
      "    accuracy                           0.66       480\n",
      "   macro avg       0.64      0.66      0.63       480\n",
      "weighted avg       0.64      0.66      0.63       480\n",
      "\n"
     ]
    }
   ],
   "source": [
    "print(classification_report(y_test,y_pred))"
   ]
  },
  {
   "cell_type": "markdown",
   "id": "10a6939d",
   "metadata": {},
   "source": [
    "## Confusion Matrix"
   ]
  },
  {
   "cell_type": "code",
   "execution_count": 78,
   "id": "88de3849",
   "metadata": {},
   "outputs": [
    {
     "data": {
      "image/png": "[encoded data removed]",
      "text/plain": [
       "<Figure size 640x480 with 2 Axes>"
      ]
     },
     "metadata": {},
     "output_type": "display_data"
    }
   ],
   "source": [
    "cm = confusion_matrix(y_test, y_pred)\n",
    "\n",
    "display_labels = [0, 1, 2, 3]\n",
    "\n",
    "cm_display = ConfusionMatrixDisplay(confusion_matrix=cm, display_labels=display_labels)\n",
    "\n",
    "cm_display.plot(cmap='Blues')\n",
    "plt.show()"
   ]
  },
  {
   "cell_type": "code",
   "execution_count": null,
   "id": "0ec0aa84",
   "metadata": {},
   "outputs": [],
   "source": []
  }
 ],
 "metadata": {
  "kernelspec": {
   "display_name": "Python 3 (ipykernel)",
   "language": "python",
   "name": "python3"
  },
  "language_info": {
   "codemirror_mode": {
    "name": "ipython",
    "version": 3
   },
   "file_extension": ".py",
   "mimetype": "text/x-python",
   "name": "python",
   "nbconvert_exporter": "python",
   "pygments_lexer": "ipython3",
   "version": "3.10.15"
  }
 },
 "nbformat": 4,
 "nbformat_minor": 5
}
